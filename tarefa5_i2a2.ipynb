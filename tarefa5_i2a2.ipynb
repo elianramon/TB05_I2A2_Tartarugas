{
  "nbformat": 4,
  "nbformat_minor": 0,
  "metadata": {
    "colab": {
      "provenance": [],
      "toc_visible": true,
      "authorship_tag": "ABX9TyNfaKBC3XklNpiq9nJTM5Rm",
      "include_colab_link": true
    },
    "kernelspec": {
      "name": "python3",
      "display_name": "Python 3"
    },
    "language_info": {
      "name": "python"
    }
  },
  "cells": [
    {
      "cell_type": "markdown",
      "metadata": {
        "id": "view-in-github",
        "colab_type": "text"
      },
      "source": [
        "<a href=\"https://colab.research.google.com/github/elianramon/TB05_I2A2_Tartarugas/blob/main/tarefa5_i2a2.ipynb\" target=\"_parent\"><img src=\"https://colab.research.google.com/assets/colab-badge.svg\" alt=\"Open In Colab\"/></a>"
      ]
    },
    {
      "cell_type": "markdown",
      "source": [
        "# Desafio em Defesa das Tartarugas"
      ],
      "metadata": {
        "id": "yrw_apCsL2C5"
      }
    },
    {
      "cell_type": "markdown",
      "source": [
        "## Dados gerados a partir dos disponibilizados"
      ],
      "metadata": {
        "id": "Z2vvyehiIbf5"
      }
    },
    {
      "cell_type": "code",
      "source": [
        "# Inicialização dos dados no dicionário \"ninhos\"\n",
        "\n",
        "ninhos = [\n",
        "    {\"regiao\": \"Praia Norte\", \"qtd_ovos\": 102, \"status\": \"intacto\", \"risco\": \"🟢\", \"dias_eclosao\": 12, \"predadores\": False},\n",
        "    {\"regiao\": \"Praia Central\", \"qtd_ovos\": 89, \"status\": \"danificado\", \"risco\": \"🔴\", \"dias_eclosao\": 3, \"predadores\": True},\n",
        "    {\"regiao\": \"Praia Sul\", \"qtd_ovos\": 120, \"status\": \"ameaçado\", \"risco\": \"🟡\", \"dias_eclosao\": 7, \"predadores\": False},\n",
        "    {\"regiao\": \"Praia Central\", \"qtd_ovos\": 75, \"status\": \"intacto\", \"risco\": \"🟢\", \"dias_eclosao\": 2, \"predadores\": False},\n",
        "    {\"regiao\": \"Praia Norte\", \"qtd_ovos\": 60, \"status\": \"danificado\", \"risco\": \"🔴\", \"dias_eclosao\": 5, \"predadores\": True},\n",
        "    {\"regiao\": \"Praia Leste\", \"qtd_ovos\": 95, \"status\": \"intacto\", \"risco\": \"🟢\", \"dias_eclosao\": 10, \"predadores\": False},\n",
        "    {\"regiao\": \"Praia Oeste\", \"qtd_ovos\": 45, \"status\": \"danificado\", \"risco\": \"🔴\", \"dias_eclosao\": 4, \"predadores\": True},\n",
        "    {\"regiao\": \"Praia Sul\", \"qtd_ovos\": 110, \"status\": \"ameaçado\", \"risco\": \"🟡\", \"dias_eclosao\": 8, \"predadores\": False},\n",
        "    {\"regiao\": \"Praia Central\", \"qtd_ovos\": 80, \"status\": \"intacto\", \"risco\": \"🟢\", \"dias_eclosao\": 11, \"predadores\": False},\n",
        "    {\"regiao\": \"Praia Norte\", \"qtd_ovos\": 70, \"status\": \"danificado\", \"risco\": \"🔴\", \"dias_eclosao\": 6, \"predadores\": True},\n",
        "    {\"regiao\": \"Praia Leste\", \"qtd_ovos\": 88, \"status\": \"intacto\", \"risco\": \"🟢\", \"dias_eclosao\": 13, \"predadores\": False},\n",
        "    {\"regiao\": \"Praia Oeste\", \"qtd_ovos\": 52, \"status\": \"danificado\", \"risco\": \"🔴\", \"dias_eclosao\": 5, \"predadores\": True},\n",
        "    {\"regiao\": \"Praia Sul\", \"qtd_ovos\": 130, \"status\": \"ameaçado\", \"risco\": \"🟡\", \"dias_eclosao\": 9, \"predadores\": False},\n",
        "    {\"regiao\": \"Praia Central\", \"qtd_ovos\": 65, \"status\": \"intacto\", \"risco\": \"🟢\", \"dias_eclosao\": 14, \"predadores\": False},\n",
        "    {\"regiao\": \"Praia Norte\", \"qtd_ovos\": 55, \"status\": \"danificado\", \"risco\": \"🔴\", \"dias_eclosao\": 7, \"predadores\": True},\n",
        "    {\"regiao\": \"Praia Leste\", \"qtd_ovos\": 105, \"status\": \"intacto\", \"risco\": \"🟢\", \"dias_eclosao\": 15, \"predadores\": False},\n",
        "    {\"regiao\": \"Praia Oeste\", \"qtd_ovos\": 40, \"status\": \"danificado\", \"risco\": \"🔴\", \"dias_eclosao\": 3, \"predadores\": True},\n",
        "    {\"regiao\": \"Praia Sul\", \"qtd_ovos\": 115, \"status\": \"ameaçado\", \"risco\": \"🟡\", \"dias_eclosao\": 10, \"predadores\": False},\n",
        "    {\"regiao\": \"Praia Central\", \"qtd_ovos\": 78, \"status\": \"intacto\", \"risco\": \"🟢\", \"dias_eclosao\": 12, \"predadores\": False},\n",
        "    {\"regiao\": \"Praia Norte\", \"qtd_ovos\": 62, \"status\": \"danificado\", \"risco\": \"🔴\", \"dias_eclosao\": 6, \"predadores\": True}\n",
        "]"
      ],
      "metadata": {
        "id": "ffA0ReKqyLvU"
      },
      "execution_count": null,
      "outputs": []
    },
    {
      "cell_type": "markdown",
      "source": [
        "## Definição da função **inserir_ninho**\n",
        "\n",
        "Inserir os seguintes dados:\n",
        "\n",
        "- Regiao (string): nome da área de praia;\n",
        "- Quantidade_ovos (int): número de ovos identificados;\n",
        "- Status (string): \"intacto\", \"ameaçado\" ou \"danificado\";\n",
        "- Dias_para_eclosao (int): número estimado de dias restantes;\n",
        "- Predadores (bool): presença de predadores (True ou False).\n",
        "\n",
        "OBS.: Os Emojis que simbolizam o risco (🟢🔴🟡) são atrelados ao Status, portanto, são definidos no inntante que se insere os Status.\n",
        "\n"
      ],
      "metadata": {
        "id": "k3QTXgTbtxMy"
      }
    },
    {
      "cell_type": "code",
      "source": [
        "# Definição da função inserir ninho.\n",
        "def inserir_ninho():\n",
        "    print(\"__\"*60) # Separação estética das informações.\n",
        "    print(\"-*\"*60)\n",
        "    print(\"\\nCadastro de Novo Ninho:\")\n",
        "    print(\"-\"*60)\n",
        "\n",
        "# ---------------------------------------INICIO------------------------------------------------\n",
        "\n",
        "    regiao = input(\"Região (ex: Praia Norte) \\n --------> \").strip()   # strip() para remover espaços, input pede ao usuário a informação que é armazenda em \"regiao\".\n",
        "    print(\"-\"*60)\n",
        "\n",
        "    while True:       # Condição para não aceitar valor invalido. Enquanto qtd_ovos for verdadeiro ( > 0 ), continua, se não, repita o processo.\n",
        "      qtd_ovos = int(input(\"Quantidade de ovos (ex: 100): \")) # int() transforama para inteiro, que permite comparar o if com > 0. Poderia ser > \"0\" caso não tivesse o int().\n",
        "      if qtd_ovos > 0:\n",
        "        break # Condição para saida do laço while se o if for válido.\n",
        "      else:\n",
        "        print(\"Quantidade invalida. Repita o processo.\") # Repete o laço até o valor ser válido.\n",
        "      print(\"-\"*60)\n",
        "    print(\"-*\"*60) # Separação estética das informações.\n",
        "\n",
        "    while True:      # Condição para não aceitar valor invalido.\n",
        "      status = input(\"Status \\n1 = Intacto 🟢 \\n2 = Danificado 🔴 \\n3 = Ameaçado 🟡\\n --------> \")\n",
        "      if status == \"1\": # Sem o int() compara-se com \"1\", \"2\", ..., \"n\".\n",
        "        status = \"intacto\"\n",
        "        risco = \"🟢\"    # Atribuição do emoji do risco.\n",
        "        print(\"risco intacto = 🟢.\")\n",
        "        break       # Condição para saida do laço while se o if for válido.\n",
        "\n",
        "      elif status == \"2\":\n",
        "        status = \"danificado\"\n",
        "        risco = \"🔴\"\n",
        "        print(\"risco danificado = 🔴.\")\n",
        "        break\n",
        "\n",
        "      elif status == \"3\":\n",
        "        status = \"ameaçado\"\n",
        "        risco = \"🟡\"\n",
        "        print(\"risco ameaçado = 🟡.\")\n",
        "        break\n",
        "\n",
        "      else:\n",
        "        print(\"Opção inválida! Repita o processo.\")\n",
        "    print(\"-\"*60)\n",
        "\n",
        "    while True:     # Condição para não aceitar valor invalido.\n",
        "      dias_eclosao = int(input(\"Dias para eclosão\\n -------> \"))\n",
        "      if dias_eclosao > 0:\n",
        "        break\n",
        "      else:\n",
        "        print(\"O número de dias deve ser maior que zero. Repita o processo.\")\n",
        "      print(\"-\"*60)\n",
        "    print(\"-\"*60)\n",
        "\n",
        "    while True:  # Loop infinito até quebrar com a condição do if aceita.\n",
        "      preda = input(\"Presença de predadores \\n1 = SIM \\n2 = NÃO\\n--------> \").strip()\n",
        "      if preda == \"1\":\n",
        "        predadores = True\n",
        "        break  # Sai do loop.\n",
        "\n",
        "      elif preda == \"2\":\n",
        "        predadores = False\n",
        "        break  # Sai do loop.\n",
        "\n",
        "      else:\n",
        "        print(\"-\"*60)\n",
        "        print(\"Opção inválida! Digite 1 ou 2.\")\n",
        "\n",
        "    print(\"-\"*60)\n",
        "\n",
        "    novo_ninho = {   # Organização dos valores inseridos que serão adicionados a lista ninhos com o \".append\".\n",
        "        \"regiao\": regiao,\n",
        "        \"qtd_ovos\": qtd_ovos,\n",
        "        \"status\": status,\n",
        "        \"risco\": risco,\n",
        "        \"dias_eclosao\": dias_eclosao,\n",
        "        \"predadores\": predadores\n",
        "    }\n",
        "\n",
        "    ninhos.append(novo_ninho)    # Adição com o método append, ele adiciona no ao fim, como uma fila.\n",
        "\n",
        "    print(\"\\n✅ Ninho cadastrado com sucesso!\")\n",
        "    print(\"-\"*60)\n",
        "\n",
        "    print(\"Veja como ficou: \\n \",ninhos[-1]) # Mostra a última linha adicionada, justamente a qual acabamos de inserir.\n",
        "    # print(ninhos[0]) mostra a primeira linha."
      ],
      "metadata": {
        "id": "xu9SvySaSzYm"
      },
      "execution_count": null,
      "outputs": []
    },
    {
      "cell_type": "markdown",
      "source": [
        "## Dados Semanais"
      ],
      "metadata": {
        "id": "KHpuAvZjy-0S"
      }
    },
    {
      "cell_type": "code",
      "source": [
        "def dados_semanais(): # Mostrar como estão todos os dados.\n",
        "  print(\"\\nLista completa de ninhos:\")\n",
        "  for i, ninho in enumerate(ninhos, 1):\n",
        "    print(f\"{i}. Região: {ninho['regiao']}, Ovos: {ninho['qtd_ovos']}, Status: {ninho['status']}, Risco: {ninho['risco']}, Dias_eclosao: {ninho['dias_eclosao']}, Predadores: {ninho['predadores']}\")"
      ],
      "metadata": {
        "id": "fWegRMNjy-F2"
      },
      "execution_count": null,
      "outputs": []
    },
    {
      "cell_type": "markdown",
      "source": [
        "## Estatísticas"
      ],
      "metadata": {
        "id": "-Xr4GyN7vkIQ"
      }
    },
    {
      "cell_type": "code",
      "source": [
        "def pergunta_1 (ninho): # Nesse def, definimos uma variável de entrada chamada \"ninho\". Ela vai receber o nome do dicionário.\n",
        "  print(\"Qantidade de ninhos é de: \", len(ninho)) # Qauntos ninhos há. Apenas retornar com o tamanho len().\n",
        "  print(\"-\"*60)"
      ],
      "metadata": {
        "id": "dJGdJJLJuvc8"
      },
      "execution_count": null,
      "outputs": []
    },
    {
      "cell_type": "code",
      "source": [
        "def pergunta_2 (ninho):\n",
        "  print(\"Qual a média de ovos por ninho com risco 🟢?\")\n",
        "  cont1 = 0   # Qual a média de ovos por ninho com risco 🟢?\n",
        "  cont2 = 0\n",
        "  for i in range(len(ninho)): # Percorer o dicionário na chave \"risco\" e comparar apenas com \"🟢\".\n",
        "    if ninho[i][\"risco\"] == \"🟢\":\n",
        "      cont1 += ninho[i][\"qtd_ovos\"] # cont1 recebe somatória de valores contidas na quantidade de ovos quando a condição é verdadeira.\n",
        "      cont2 += 1 # cont2 faz a contagem de vezes que a condição é aceita. Servirá para cálculo da média.\n",
        "\n",
        "  print(\"Média de ovos com risco 🟢 é de: \",cont1/cont2)\n",
        "  print(\"-\"*60)"
      ],
      "metadata": {
        "id": "pOsgOpzTyT3t"
      },
      "execution_count": null,
      "outputs": []
    },
    {
      "cell_type": "code",
      "source": [
        "def pergunta_3 (ninho):\n",
        "  print(\"Quantos ninhos estão prestes a eclodir até 5 dias? \")\n",
        "  cont = 0   # Quantos ninhos estão prestes a eclodir (dias ≤ 5)?\n",
        "  for i in range(len(ninho)): # Percorre no tamanho de ninho.\n",
        "    if ninho[i][\"dias_eclosao\"] < 6: # Condição menor que 6, não inclue o 6.\n",
        "      cont += 1 # Faz a contagem quando condição é aceita.\n",
        "\n",
        "  print(f\"São {cont} ninhos\")\n",
        "  print(\"-\"*60)"
      ],
      "metadata": {
        "id": "F1X-1hicvsTa"
      },
      "execution_count": null,
      "outputs": []
    },
    {
      "cell_type": "code",
      "source": [
        "from statistics import mode # Implementação da moda para verificar qual região com mais ninhos com risco 🔴.\n",
        "\n",
        "def pergunta_4 (ninho):\n",
        "  print(\"Região com ninhos de maior risco 🔴? \")\n",
        "  cont = 0\n",
        "  regi_mode = []  # Lista para armazenar somente o nome da região.\n",
        "  a = []          # Lista que vai mostrar regiões com risco  🔴 BÔNUS.\n",
        "\n",
        "  for i in range(len(ninho)): # Percorre no tamanho de ninho.\n",
        "      if ninho[i][\"risco\"] == \"🔴\": # Verificando a condição...\n",
        "          regi_mode.append(ninho[i]['regiao']) # append adiciona ao final da fila.\n",
        "          a.append(ninho[i]) # a[] guarda a linha que a condição é aceita. Isso é garantido ao usar o índice de iteração \"i\".\n",
        "          cont += 1 # Simples contador.\n",
        "\n",
        "  print(f\"Total de ninho danificados é de: {cont}\") # Bônus\n",
        "  print(\"\\nNinhos danificados. -----> ATENÇÃO <-----\")\n",
        "  print(\"-*\"*60)\n",
        "\n",
        "  for i in a:\n",
        "      print(i) # Mostra quais são os ninhos, pode ser interessante saber para atenção secundária.\n",
        "  print(\"-*\"*60, \"\\n\")\n",
        "\n",
        "  print(\"Região com ninhos de maior risco 🔴 \\n ---------> \", mode(regi_mode), \"<---------\") # A moda irá revelar quem apareceu mais.\n",
        "  print(\"-\"*60)"
      ],
      "metadata": {
        "id": "Yn9fdAW30BIy"
      },
      "execution_count": null,
      "outputs": []
    },
    {
      "cell_type": "code",
      "source": [
        "def pergunta_5 (ninho):\n",
        "  cont = 0   # Quantos ninhos têm presença de predadores e estão danificados?\n",
        "  print(\"Ninhos danificados e com predadores: \\n\")\n",
        "  print(\"-*\"*60)\n",
        "\n",
        "  for i in range(len(ninho)):\n",
        "    if ninho[i][\"predadores\"] == True and ninho[i][\"status\"] == \"danificado\": # Uso do operador lógico \"e\" / \"^\" / \"and\". O if olha o valor contido da chave.\n",
        "      cont += 1       # A contagem é feita se e somente se as duas condições forem verdadeiras.\n",
        "      print(ninho[i], \"\\n\") # Mostra quais são esses ninhos.\n",
        "\n",
        "  print(\"Quantidade Total:\", cont)\n",
        "  print(\"-\"*60)"
      ],
      "metadata": {
        "id": "A8U9fzLqyT9f"
      },
      "execution_count": null,
      "outputs": []
    },
    {
      "cell_type": "markdown",
      "source": [
        "### Bônus"
      ],
      "metadata": {
        "id": "IRlex91incRO"
      }
    },
    {
      "cell_type": "code",
      "source": [
        "def pergunta_2_2 (ninho):\n",
        "  print(\"Qual a média de ovos por ninho com risco 🔴?\")\n",
        "  cont1 = 0   # Qual a média de ovos por ninho com risco 🔴?\n",
        "  cont2 = 0\n",
        "  for i in range(len(ninho)): # Percorer o dicionário na chave \"risco\" e comparar apenas com \"🔴\".\n",
        "    if ninho[i][\"risco\"] == \"🔴\":\n",
        "      cont1 += ninho[i][\"qtd_ovos\"] # cont1 recebe somatória de valores contidas na quantidade de ovos quando a condição é verdadeira.\n",
        "      cont2 += 1 # cont2 faz a contagem de vezes que a condição é aceita. Servirá para cálculo da média.\n",
        "\n",
        "  print(\"Média de ovos com risco 🔴 é de: \",cont1/cont2)\n",
        "  print(\"-\"*60)\n",
        "\n",
        "def pergunta_2_3 (ninho):\n",
        "  print(\"Qual a média de ovos por ninho com risco 🟡:\")\n",
        "  cont1 = 0   # Qual a média de ovos por ninho com risco 🟡?\n",
        "  cont2 = 0\n",
        "  for i in range(len(ninho)): # Percorer o dicionário na chave \"risco\" e comparar apenas com \"🟡\".\n",
        "    if ninho[i][\"risco\"] == \"🟡\":\n",
        "      cont1 += ninho[i][\"qtd_ovos\"] # cont1 recebe somatória de valores contidas na quantidade de ovos quando a condição é verdadeira.\n",
        "      cont2 += 1 # cont2 faz a contagem de vezes que a condição é aceita. Servirá para cálculo da média.\n",
        "\n",
        "  print(\"Média de ovos com risco 🟡 é de: \",cont1/cont2)\n",
        "  print(\"-\"*60)"
      ],
      "metadata": {
        "id": "9Q-oMYgane_j"
      },
      "execution_count": null,
      "outputs": []
    },
    {
      "cell_type": "code",
      "source": [
        "def estatisticas(ninho):\n",
        "  pergunta_1(ninho)\n",
        "  pergunta_2(ninho)\n",
        "  pergunta_2_2(ninho)\n",
        "  pergunta_2_3(ninho)\n",
        "  pergunta_3(ninho)\n",
        "  pergunta_4(ninho)\n",
        "  pergunta_5(ninho)\n",
        "\n",
        "# Mostagem das perguntas em outro def. Assim basta dar um comando para ver todas as respostas."
      ],
      "metadata": {
        "id": "I-9RKD1U7IPQ"
      },
      "execution_count": null,
      "outputs": []
    },
    {
      "cell_type": "markdown",
      "source": [
        "# Implementação"
      ],
      "metadata": {
        "id": "__XUEgamrhD1"
      }
    },
    {
      "cell_type": "code",
      "source": [
        "def inicio(): # Somente estética visual\n",
        "    print(\"__\"*60)\n",
        "    print(\"-*\"*60, \"\\nProtegendo as Futuras Tartarugas da Amazônia\")\n",
        "\n",
        "    print('''\n",
        "          _____     _____\n",
        "        /      \\\\  |  Ô ô|\n",
        "        |        |/ ___\\\\|     o  O  O  o  O  o   O\n",
        "       /|_________/          O  O  o   0  O  o  O  O\n",
        "      / |_|_| |_|_|         0  0  o  0  O  O  o  O  O\n",
        "    ''')\n",
        "\n",
        "    print(\"__\"*60)\n",
        "    print(\"-*\"*60)"
      ],
      "metadata": {
        "id": "ZeK7plEozp3F"
      },
      "execution_count": null,
      "outputs": []
    },
    {
      "cell_type": "code",
      "source": [
        "inicio()\n",
        "\n",
        "while True:  # Loop infinito até que uma opção válida seja digitada.\n",
        "    print(\"ºª\"*60)\n",
        "    print(\"Bom dia protetor, o que vamos fazer hoje? \\n\") # Criação do MENU.\n",
        "    print(\"__\"*60)\n",
        "    escolha = int(input('''\n",
        "1 = INSERIR DADOS\n",
        "2 = VISUALIZAR RELATÓRIO\n",
        "3 = CONSULTAR ESTATÍSTICAS\n",
        "4 = SAIR\n",
        "--------> '''))\n",
        "\n",
        "    if escolha == 1:  # Aqui você pode adicionar a lógica da opção 1\n",
        "        print(\"Opção 1 - Inserir dados\")\n",
        "        inserir_ninho()\n",
        "\n",
        "    elif escolha == 2:\n",
        "        print(\"Opção 2 - Visualizar relatório\")\n",
        "        dados_semanais()\n",
        "\n",
        "    elif escolha == 3:\n",
        "        print(\"Opção 3 - Consultar estatísticas\")\n",
        "        estatisticas(ninhos)\n",
        "\n",
        "    elif escolha == 4:\n",
        "        print(\"Opção 4 - Sair do programa\")\n",
        "        break\n",
        "\n",
        "    else:\n",
        "        print(\"Opção inválida! Digite 1, 2, 3 ou 4.\")\n",
        "        # O loop continuará perguntando até receber uma opção válida"
      ],
      "metadata": {
        "id": "ex_2AwhGy2ch",
        "colab": {
          "base_uri": "https://localhost:8080/"
        },
        "outputId": "5763d22f-35f8-4ab8-aaa0-3e1aac722524"
      },
      "execution_count": null,
      "outputs": [
        {
          "output_type": "stream",
          "name": "stdout",
          "text": [
            "________________________________________________________________________________________________________________________\n",
            "-*-*-*-*-*-*-*-*-*-*-*-*-*-*-*-*-*-*-*-*-*-*-*-*-*-*-*-*-*-*-*-*-*-*-*-*-*-*-*-*-*-*-*-*-*-*-*-*-*-*-*-*-*-*-*-*-*-*-*-* \n",
            "Protegendo as Futuras Tartarugas da Amazônia\n",
            "\n",
            "          _____     _____\n",
            "        /      \\  |  Ô ô| \n",
            "        |        |/ ___\\|     o  O  O  o  O  o   O\n",
            "       /|_________/          O  O  o   0  O  o  O  O\n",
            "      / |_|_| |_|_|         0  0  o  0  O  O  o  O  O\n",
            "    \n",
            "________________________________________________________________________________________________________________________\n",
            "-*-*-*-*-*-*-*-*-*-*-*-*-*-*-*-*-*-*-*-*-*-*-*-*-*-*-*-*-*-*-*-*-*-*-*-*-*-*-*-*-*-*-*-*-*-*-*-*-*-*-*-*-*-*-*-*-*-*-*-*\n",
            "ºªºªºªºªºªºªºªºªºªºªºªºªºªºªºªºªºªºªºªºªºªºªºªºªºªºªºªºªºªºªºªºªºªºªºªºªºªºªºªºªºªºªºªºªºªºªºªºªºªºªºªºªºªºªºªºªºªºªºªºª\n",
            "Bom dia protetor, o que vamos fazer hoje? \n",
            "\n",
            "________________________________________________________________________________________________________________________\n",
            "\n",
            "1 = INSERIR DADOS  \n",
            "2 = VISUALIZAR RELATÓRIO  \n",
            "3 = CONSULTAR ESTATÍSTICAS  \n",
            "4 = SAIR  \n",
            "--------> 2\n",
            "Opção 2 - Visualizar relatório\n",
            "\n",
            "Lista completa de ninhos:\n",
            "1. Região: Praia Norte, Ovos: 102, Status: intacto, Risco: 🟢, Dias_eclosao: 12, Predadores: False\n",
            "2. Região: Praia Central, Ovos: 89, Status: danificado, Risco: 🔴, Dias_eclosao: 3, Predadores: True\n",
            "3. Região: Praia Sul, Ovos: 120, Status: ameaçado, Risco: 🟡, Dias_eclosao: 7, Predadores: False\n",
            "4. Região: Praia Central, Ovos: 75, Status: intacto, Risco: 🟢, Dias_eclosao: 2, Predadores: False\n",
            "5. Região: Praia Norte, Ovos: 60, Status: danificado, Risco: 🔴, Dias_eclosao: 5, Predadores: True\n",
            "6. Região: Praia Leste, Ovos: 95, Status: intacto, Risco: 🟢, Dias_eclosao: 10, Predadores: False\n",
            "7. Região: Praia Oeste, Ovos: 45, Status: danificado, Risco: 🔴, Dias_eclosao: 4, Predadores: True\n",
            "8. Região: Praia Sul, Ovos: 110, Status: ameaçado, Risco: 🟡, Dias_eclosao: 8, Predadores: False\n",
            "9. Região: Praia Central, Ovos: 80, Status: intacto, Risco: 🟢, Dias_eclosao: 11, Predadores: False\n",
            "10. Região: Praia Norte, Ovos: 70, Status: danificado, Risco: 🔴, Dias_eclosao: 6, Predadores: True\n",
            "11. Região: Praia Leste, Ovos: 88, Status: intacto, Risco: 🟢, Dias_eclosao: 13, Predadores: False\n",
            "12. Região: Praia Oeste, Ovos: 52, Status: danificado, Risco: 🔴, Dias_eclosao: 5, Predadores: True\n",
            "13. Região: Praia Sul, Ovos: 130, Status: ameaçado, Risco: 🟡, Dias_eclosao: 9, Predadores: False\n",
            "14. Região: Praia Central, Ovos: 65, Status: intacto, Risco: 🟢, Dias_eclosao: 14, Predadores: False\n",
            "15. Região: Praia Norte, Ovos: 55, Status: danificado, Risco: 🔴, Dias_eclosao: 7, Predadores: True\n",
            "16. Região: Praia Leste, Ovos: 105, Status: intacto, Risco: 🟢, Dias_eclosao: 15, Predadores: False\n",
            "17. Região: Praia Oeste, Ovos: 40, Status: danificado, Risco: 🔴, Dias_eclosao: 3, Predadores: True\n",
            "18. Região: Praia Sul, Ovos: 115, Status: ameaçado, Risco: 🟡, Dias_eclosao: 10, Predadores: False\n",
            "19. Região: Praia Central, Ovos: 78, Status: intacto, Risco: 🟢, Dias_eclosao: 12, Predadores: False\n",
            "20. Região: Praia Norte, Ovos: 62, Status: danificado, Risco: 🔴, Dias_eclosao: 6, Predadores: True\n",
            "ºªºªºªºªºªºªºªºªºªºªºªºªºªºªºªºªºªºªºªºªºªºªºªºªºªºªºªºªºªºªºªºªºªºªºªºªºªºªºªºªºªºªºªºªºªºªºªºªºªºªºªºªºªºªºªºªºªºªºªºª\n",
            "Bom dia protetor, o que vamos fazer hoje? \n",
            "\n",
            "________________________________________________________________________________________________________________________\n",
            "\n",
            "1 = INSERIR DADOS  \n",
            "2 = VISUALIZAR RELATÓRIO  \n",
            "3 = CONSULTAR ESTATÍSTICAS  \n",
            "4 = SAIR  \n",
            "--------> 3\n",
            "Opção 3 - Consultar estatísticas\n",
            "Qantidade de ninhos é de:  20\n",
            "------------------------------------------------------------\n",
            "Qual a média de ovos por ninho com risco 🟢\n",
            " Média de ovos com risco 🟢 é de:  86.0\n",
            "------------------------------------------------------------\n",
            "Qual a média de ovos por ninho com risco 🔴\n",
            " Média de ovos com risco 🔴 é de:  59.125\n",
            "------------------------------------------------------------\n",
            "Qual a média de ovos por ninho com risco 🟡\n",
            " Média de ovos com risco 🟡 é de:  118.75\n",
            "------------------------------------------------------------\n",
            "Quantos ninhos estão prestes a eclodir até 5 dias? \n",
            "São 6 ninhos\n",
            "------------------------------------------------------------\n",
            "Região com ninhos de maior risco 🔴 é: \n",
            "Total de ninho danificados é de: 8\n",
            "\n",
            "Ninhos danificados. -----> ATENÇÃO <-----\n",
            "-*-*-*-*-*-*-*-*-*-*-*-*-*-*-*-*-*-*-*-*-*-*-*-*-*-*-*-*-*-*-*-*-*-*-*-*-*-*-*-*-*-*-*-*-*-*-*-*-*-*-*-*-*-*-*-*-*-*-*-*\n",
            "{'regiao': 'Praia Central', 'qtd_ovos': 89, 'status': 'danificado', 'risco': '🔴', 'dias_eclosao': 3, 'predadores': True}\n",
            "{'regiao': 'Praia Norte', 'qtd_ovos': 60, 'status': 'danificado', 'risco': '🔴', 'dias_eclosao': 5, 'predadores': True}\n",
            "{'regiao': 'Praia Oeste', 'qtd_ovos': 45, 'status': 'danificado', 'risco': '🔴', 'dias_eclosao': 4, 'predadores': True}\n",
            "{'regiao': 'Praia Norte', 'qtd_ovos': 70, 'status': 'danificado', 'risco': '🔴', 'dias_eclosao': 6, 'predadores': True}\n",
            "{'regiao': 'Praia Oeste', 'qtd_ovos': 52, 'status': 'danificado', 'risco': '🔴', 'dias_eclosao': 5, 'predadores': True}\n",
            "{'regiao': 'Praia Norte', 'qtd_ovos': 55, 'status': 'danificado', 'risco': '🔴', 'dias_eclosao': 7, 'predadores': True}\n",
            "{'regiao': 'Praia Oeste', 'qtd_ovos': 40, 'status': 'danificado', 'risco': '🔴', 'dias_eclosao': 3, 'predadores': True}\n",
            "{'regiao': 'Praia Norte', 'qtd_ovos': 62, 'status': 'danificado', 'risco': '🔴', 'dias_eclosao': 6, 'predadores': True}\n",
            "-*-*-*-*-*-*-*-*-*-*-*-*-*-*-*-*-*-*-*-*-*-*-*-*-*-*-*-*-*-*-*-*-*-*-*-*-*-*-*-*-*-*-*-*-*-*-*-*-*-*-*-*-*-*-*-*-*-*-*-* \n",
            "\n",
            "Região com ninhos de maior risco 🔴 \n",
            " --------->  Praia Norte <---------\n",
            "------------------------------------------------------------\n",
            "Ninhos danificados e com predadores: \n",
            "\n",
            "-*-*-*-*-*-*-*-*-*-*-*-*-*-*-*-*-*-*-*-*-*-*-*-*-*-*-*-*-*-*-*-*-*-*-*-*-*-*-*-*-*-*-*-*-*-*-*-*-*-*-*-*-*-*-*-*-*-*-*-*\n",
            "{'regiao': 'Praia Central', 'qtd_ovos': 89, 'status': 'danificado', 'risco': '🔴', 'dias_eclosao': 3, 'predadores': True} \n",
            "\n",
            "{'regiao': 'Praia Norte', 'qtd_ovos': 60, 'status': 'danificado', 'risco': '🔴', 'dias_eclosao': 5, 'predadores': True} \n",
            "\n",
            "{'regiao': 'Praia Oeste', 'qtd_ovos': 45, 'status': 'danificado', 'risco': '🔴', 'dias_eclosao': 4, 'predadores': True} \n",
            "\n",
            "{'regiao': 'Praia Norte', 'qtd_ovos': 70, 'status': 'danificado', 'risco': '🔴', 'dias_eclosao': 6, 'predadores': True} \n",
            "\n",
            "{'regiao': 'Praia Oeste', 'qtd_ovos': 52, 'status': 'danificado', 'risco': '🔴', 'dias_eclosao': 5, 'predadores': True} \n",
            "\n",
            "{'regiao': 'Praia Norte', 'qtd_ovos': 55, 'status': 'danificado', 'risco': '🔴', 'dias_eclosao': 7, 'predadores': True} \n",
            "\n",
            "{'regiao': 'Praia Oeste', 'qtd_ovos': 40, 'status': 'danificado', 'risco': '🔴', 'dias_eclosao': 3, 'predadores': True} \n",
            "\n",
            "{'regiao': 'Praia Norte', 'qtd_ovos': 62, 'status': 'danificado', 'risco': '🔴', 'dias_eclosao': 6, 'predadores': True} \n",
            "\n",
            "Quantidade Total: 8\n",
            "------------------------------------------------------------\n",
            "ºªºªºªºªºªºªºªºªºªºªºªºªºªºªºªºªºªºªºªºªºªºªºªºªºªºªºªºªºªºªºªºªºªºªºªºªºªºªºªºªºªºªºªºªºªºªºªºªºªºªºªºªºªºªºªºªºªºªºªºª\n",
            "Bom dia protetor, o que vamos fazer hoje? \n",
            "\n",
            "________________________________________________________________________________________________________________________\n",
            "\n",
            "1 = INSERIR DADOS  \n",
            "2 = VISUALIZAR RELATÓRIO  \n",
            "3 = CONSULTAR ESTATÍSTICAS  \n",
            "4 = SAIR  \n",
            "--------> 1\n",
            "Opção 1 - Inserir dados\n",
            "________________________________________________________________________________________________________________________\n",
            "-*-*-*-*-*-*-*-*-*-*-*-*-*-*-*-*-*-*-*-*-*-*-*-*-*-*-*-*-*-*-*-*-*-*-*-*-*-*-*-*-*-*-*-*-*-*-*-*-*-*-*-*-*-*-*-*-*-*-*-*\n",
            "\n",
            "Cadastro de Novo Ninho:\n",
            "------------------------------------------------------------\n",
            "Região (ex: Praia Norte) \n",
            " --------> Praia Sul\n",
            "------------------------------------------------------------\n",
            "Quantidade de ovos (ex: 100): 85\n",
            "-*-*-*-*-*-*-*-*-*-*-*-*-*-*-*-*-*-*-*-*-*-*-*-*-*-*-*-*-*-*-*-*-*-*-*-*-*-*-*-*-*-*-*-*-*-*-*-*-*-*-*-*-*-*-*-*-*-*-*-*\n",
            "Status \n",
            "1 = Intacto 🟢; \n",
            "2 = Danificado 🔴; \n",
            "3 = Ameaçado 🟡\n",
            " --------> 3\n",
            "risco ameaçado = 🟡.\n",
            "------------------------------------------------------------\n",
            "Dias para eclosão\n",
            " -------> 8\n",
            "------------------------------------------------------------\n",
            "Presença de predadores \n",
            "1 = SIM \n",
            "2 = NÃO\n",
            "--------> 1\n",
            "------------------------------------------------------------\n",
            "\n",
            "✅ Ninho cadastrado com sucesso!\n",
            "------------------------------------------------------------\n",
            "Veja como ficou: \n",
            "  {'regiao': 'Praia Sul', 'qtd_ovos': 85, 'status': 'ameaçado', 'risco': '🟡', 'dias_eclosao': 8, 'predadores': True}\n",
            "ºªºªºªºªºªºªºªºªºªºªºªºªºªºªºªºªºªºªºªºªºªºªºªºªºªºªºªºªºªºªºªºªºªºªºªºªºªºªºªºªºªºªºªºªºªºªºªºªºªºªºªºªºªºªºªºªºªºªºªºª\n",
            "Bom dia protetor, o que vamos fazer hoje? \n",
            "\n",
            "________________________________________________________________________________________________________________________\n",
            "\n",
            "1 = INSERIR DADOS  \n",
            "2 = VISUALIZAR RELATÓRIO  \n",
            "3 = CONSULTAR ESTATÍSTICAS  \n",
            "4 = SAIR  \n",
            "--------> 2\n",
            "Opção 2 - Visualizar relatório\n",
            "\n",
            "Lista completa de ninhos:\n",
            "1. Região: Praia Norte, Ovos: 102, Status: intacto, Risco: 🟢, Dias_eclosao: 12, Predadores: False\n",
            "2. Região: Praia Central, Ovos: 89, Status: danificado, Risco: 🔴, Dias_eclosao: 3, Predadores: True\n",
            "3. Região: Praia Sul, Ovos: 120, Status: ameaçado, Risco: 🟡, Dias_eclosao: 7, Predadores: False\n",
            "4. Região: Praia Central, Ovos: 75, Status: intacto, Risco: 🟢, Dias_eclosao: 2, Predadores: False\n",
            "5. Região: Praia Norte, Ovos: 60, Status: danificado, Risco: 🔴, Dias_eclosao: 5, Predadores: True\n",
            "6. Região: Praia Leste, Ovos: 95, Status: intacto, Risco: 🟢, Dias_eclosao: 10, Predadores: False\n",
            "7. Região: Praia Oeste, Ovos: 45, Status: danificado, Risco: 🔴, Dias_eclosao: 4, Predadores: True\n",
            "8. Região: Praia Sul, Ovos: 110, Status: ameaçado, Risco: 🟡, Dias_eclosao: 8, Predadores: False\n",
            "9. Região: Praia Central, Ovos: 80, Status: intacto, Risco: 🟢, Dias_eclosao: 11, Predadores: False\n",
            "10. Região: Praia Norte, Ovos: 70, Status: danificado, Risco: 🔴, Dias_eclosao: 6, Predadores: True\n",
            "11. Região: Praia Leste, Ovos: 88, Status: intacto, Risco: 🟢, Dias_eclosao: 13, Predadores: False\n",
            "12. Região: Praia Oeste, Ovos: 52, Status: danificado, Risco: 🔴, Dias_eclosao: 5, Predadores: True\n",
            "13. Região: Praia Sul, Ovos: 130, Status: ameaçado, Risco: 🟡, Dias_eclosao: 9, Predadores: False\n",
            "14. Região: Praia Central, Ovos: 65, Status: intacto, Risco: 🟢, Dias_eclosao: 14, Predadores: False\n",
            "15. Região: Praia Norte, Ovos: 55, Status: danificado, Risco: 🔴, Dias_eclosao: 7, Predadores: True\n",
            "16. Região: Praia Leste, Ovos: 105, Status: intacto, Risco: 🟢, Dias_eclosao: 15, Predadores: False\n",
            "17. Região: Praia Oeste, Ovos: 40, Status: danificado, Risco: 🔴, Dias_eclosao: 3, Predadores: True\n",
            "18. Região: Praia Sul, Ovos: 115, Status: ameaçado, Risco: 🟡, Dias_eclosao: 10, Predadores: False\n",
            "19. Região: Praia Central, Ovos: 78, Status: intacto, Risco: 🟢, Dias_eclosao: 12, Predadores: False\n",
            "20. Região: Praia Norte, Ovos: 62, Status: danificado, Risco: 🔴, Dias_eclosao: 6, Predadores: True\n",
            "21. Região: Praia Sul, Ovos: 85, Status: ameaçado, Risco: 🟡, Dias_eclosao: 8, Predadores: True\n",
            "ºªºªºªºªºªºªºªºªºªºªºªºªºªºªºªºªºªºªºªºªºªºªºªºªºªºªºªºªºªºªºªºªºªºªºªºªºªºªºªºªºªºªºªºªºªºªºªºªºªºªºªºªºªºªºªºªºªºªºªºª\n",
            "Bom dia protetor, o que vamos fazer hoje? \n",
            "\n",
            "________________________________________________________________________________________________________________________\n",
            "\n",
            "1 = INSERIR DADOS  \n",
            "2 = VISUALIZAR RELATÓRIO  \n",
            "3 = CONSULTAR ESTATÍSTICAS  \n",
            "4 = SAIR  \n",
            "--------> 4\n",
            "Opção 4 - Sair do programa\n"
          ]
        }
      ]
    }
  ]
}